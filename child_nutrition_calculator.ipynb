{
 "cells": [
  {
   "cell_type": "code",
   "execution_count": null,
   "id": "f76251b3",
   "metadata": {},
   "outputs": [],
   "source": [
    "import math\n",
    "Name = str(input(\"Name :\"))\n",
    "Age  = int(input(\"Age :\"))\n",
    "Height = int(input(\"Height :\"))\n",
    "Weight = int(input(\"Weight :\"))\n",
    "BMIvalue = float(Weight/(Height**2)*703)\n",
    "BMIvalue = float(math.floor(BMIvalue*100)/100)\n",
    "Milk = int(input(\"Milk : \"))\n",
    "Vegetables = int(input(\"Vegetables : \"))\n",
    "Vegetables = 0.85*Vegetables\n",
    "Meat = int(input(\"Meat : \"))\n",
    "Meat = 1.43*Meat\n",
    "Lentils = int(input(\"Lentils : \"))\n",
    "Lentils = 1.13*Lentils\n",
    "Egg = int(input(\"Egg : \"))\n",
    "Egg = 1.55*Egg\n",
    "Rice = int(input(\"Rice : \"))\n",
    "Rice =  1.3*Rice\n",
    "together = int(Milk + Vegetables + Meat + Lentils + Egg + Rice)\n",
    "if BMIvalue < 16:\n",
    "    print('BMI of '+Name+' is '+str(BMIvalue)+' and he(she) is Severely Underweight')\n",
    "elif BMIvalue >= 16 and BMIvalue < 18.5 :\n",
    "    print('BMI of '+Name+' is '+str(BMIvalue)+' and he(she) is Underweight')\n",
    "elif BMIvalue >= 18.5 and BMIvalue < 25 :\n",
    "    print('BMI of '+Name+' is '+str(BMIvalue)+' and he(she) is Healthy')\n",
    "elif BMIvalue >= 25 and BMIvalue < 30 :\n",
    "    print('BMI of '+Name+' is '+str(BMIvalue)+' and he(she) is Overweight')\n",
    "elif BMIvalue >= 30 :\n",
    "    print('BMI of '+Name+' is '+str(BMIvalue)+' and he(she) is Obese')\n",
    "if Age< 2 :\n",
    "    if together>=800:\n",
    "        print('The daily calorie consumption'+Name+\" is \"+str(together)+' and he(she) is not undernourished')\n",
    "    else :\n",
    "     print('The daily calorie consumption'+Name+\" is \"+str(together)+' and he(she) is undernourished')\n",
    "elif 2<=Age<4:\n",
    "     if together>=1400:\n",
    "        print('The daily calorie consumption '+Name+\" is \"+str(together)+' and he(she) is not undernourished')\n",
    "     else :\n",
    "        print('The daily calorie consumption '+Name+\" is \"+str(together)+'  and he(she) is  undernourished')\n",
    "elif 4<=Age<8:\n",
    "     if together>=1800 :\n",
    "        print('The daily calorie consumption '+Name+\" is \"+str(together)+' and he(she) is not undernourished')\n",
    "     else :\n",
    "         print('The daily calorie consumption'+Name+\" is \"+str(together)+'and he(she) is  undernourished')\n",
    "else:\n",
    "     print('The daily calorie consumption'+Name+\" is \"+str(together)+'and he(she) is not undernourished')"
   ]
  },
  {
   "cell_type": "code",
   "execution_count": null,
   "id": "fb584c17",
   "metadata": {},
   "outputs": [],
   "source": []
  }
 ],
 "metadata": {
  "kernelspec": {
   "display_name": "Python 3 (ipykernel)",
   "language": "python",
   "name": "python3"
  },
  "language_info": {
   "codemirror_mode": {
    "name": "ipython",
    "version": 3
   },
   "file_extension": ".py",
   "mimetype": "text/x-python",
   "name": "python",
   "nbconvert_exporter": "python",
   "pygments_lexer": "ipython3",
   "version": "3.9.7"
  }
 },
 "nbformat": 4,
 "nbformat_minor": 5
}
